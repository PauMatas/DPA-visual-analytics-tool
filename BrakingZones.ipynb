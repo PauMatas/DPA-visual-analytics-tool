{
 "cells": [
  {
   "cell_type": "code",
   "execution_count": 1,
   "metadata": {},
   "outputs": [],
   "source": [
    "import pandas as pd\n",
    "import numpy as np\n",
    "import altair as alt\n",
    "from Modules.radarchart import RadarChart"
   ]
  },
  {
   "cell_type": "code",
   "execution_count": 6,
   "metadata": {},
   "outputs": [
    {
     "name": "stdout",
     "output_type": "stream",
     "text": [
      "Turns: 8 and Laps: 3\n",
      "8\n",
      "3\n"
     ]
    },
    {
     "name": "stderr",
     "output_type": "stream",
     "text": [
      "/usr/local/lib/python3.10/site-packages/altair/utils/core.py:317: FutureWarning: iteritems is deprecated and will be removed in a future version. Use .items instead.\n",
      "  for col_name, dtype in df.dtypes.iteritems():\n"
     ]
    },
    {
     "data": {
      "text/html": [
       "\n",
       "<div id=\"altair-viz-4ff49eb888a04251b205fa045bad086e\"></div>\n",
       "<script type=\"text/javascript\">\n",
       "  var VEGA_DEBUG = (typeof VEGA_DEBUG == \"undefined\") ? {} : VEGA_DEBUG;\n",
       "  (function(spec, embedOpt){\n",
       "    let outputDiv = document.currentScript.previousElementSibling;\n",
       "    if (outputDiv.id !== \"altair-viz-4ff49eb888a04251b205fa045bad086e\") {\n",
       "      outputDiv = document.getElementById(\"altair-viz-4ff49eb888a04251b205fa045bad086e\");\n",
       "    }\n",
       "    const paths = {\n",
       "      \"vega\": \"https://cdn.jsdelivr.net/npm//vega@5?noext\",\n",
       "      \"vega-lib\": \"https://cdn.jsdelivr.net/npm//vega-lib?noext\",\n",
       "      \"vega-lite\": \"https://cdn.jsdelivr.net/npm//vega-lite@4.17.0?noext\",\n",
       "      \"vega-embed\": \"https://cdn.jsdelivr.net/npm//vega-embed@6?noext\",\n",
       "    };\n",
       "\n",
       "    function maybeLoadScript(lib, version) {\n",
       "      var key = `${lib.replace(\"-\", \"\")}_version`;\n",
       "      return (VEGA_DEBUG[key] == version) ?\n",
       "        Promise.resolve(paths[lib]) :\n",
       "        new Promise(function(resolve, reject) {\n",
       "          var s = document.createElement('script');\n",
       "          document.getElementsByTagName(\"head\")[0].appendChild(s);\n",
       "          s.async = true;\n",
       "          s.onload = () => {\n",
       "            VEGA_DEBUG[key] = version;\n",
       "            return resolve(paths[lib]);\n",
       "          };\n",
       "          s.onerror = () => reject(`Error loading script: ${paths[lib]}`);\n",
       "          s.src = paths[lib];\n",
       "        });\n",
       "    }\n",
       "\n",
       "    function showError(err) {\n",
       "      outputDiv.innerHTML = `<div class=\"error\" style=\"color:red;\">${err}</div>`;\n",
       "      throw err;\n",
       "    }\n",
       "\n",
       "    function displayChart(vegaEmbed) {\n",
       "      vegaEmbed(outputDiv, spec, embedOpt)\n",
       "        .catch(err => showError(`Javascript Error: ${err.message}<br>This usually means there's a typo in your chart specification. See the javascript console for the full traceback.`));\n",
       "    }\n",
       "\n",
       "    if(typeof define === \"function\" && define.amd) {\n",
       "      requirejs.config({paths});\n",
       "      require([\"vega-embed\"], displayChart, err => showError(`Error loading script: ${err.message}`));\n",
       "    } else {\n",
       "      maybeLoadScript(\"vega\", \"5\")\n",
       "        .then(() => maybeLoadScript(\"vega-lite\", \"4.17.0\"))\n",
       "        .then(() => maybeLoadScript(\"vega-embed\", \"6\"))\n",
       "        .catch(showError)\n",
       "        .then(() => displayChart(vegaEmbed));\n",
       "    }\n",
       "  })({\"config\": {\"view\": {\"continuousWidth\": 400, \"continuousHeight\": 300}}, \"layer\": [{\"mark\": {\"type\": \"line\", \"fill\": \"gray\", \"fillOpacity\": 0.1, \"strokeWidth\": 0}, \"encoding\": {\"order\": {\"field\": \"axis\", \"type\": \"quantitative\"}, \"x\": {\"axis\": null, \"field\": \"dx\", \"scale\": {\"domain\": [-100, 100]}, \"type\": \"quantitative\"}, \"y\": {\"axis\": null, \"field\": \"dy\", \"scale\": {\"domain\": [-100, 100]}, \"type\": \"quantitative\"}}, \"height\": 400, \"transform\": [{\"filter\": \"(datum.line === 0)\"}, {\"calculate\": \"(79 * datum.cos)\", \"as\": \"dx\"}, {\"calculate\": \"(79 * datum.sin)\", \"as\": \"dy\"}], \"width\": 400}, {\"layer\": [{\"mark\": {\"type\": \"line\", \"color\": \"gray\", \"strokeDash\": [5, 5], \"strokeOpacity\": 0.5, \"strokeWidth\": 1}, \"encoding\": {\"order\": {\"field\": \"axis\", \"type\": \"quantitative\"}, \"x\": {\"axis\": null, \"field\": \"dx\", \"scale\": {\"domain\": [-100, 100]}, \"type\": \"quantitative\"}, \"y\": {\"axis\": null, \"field\": \"dy\", \"scale\": {\"domain\": [-100, 100]}, \"type\": \"quantitative\"}}, \"height\": 400, \"transform\": [{\"filter\": \"(datum.line === 0)\"}, {\"calculate\": \"(19.75 * datum.cos)\", \"as\": \"dx\"}, {\"calculate\": \"(19.75 * datum.sin)\", \"as\": \"dy\"}], \"width\": 400}, {\"mark\": {\"type\": \"line\", \"color\": \"gray\", \"strokeDash\": [5, 5], \"strokeOpacity\": 0.5, \"strokeWidth\": 1}, \"encoding\": {\"order\": {\"field\": \"axis\", \"type\": \"quantitative\"}, \"x\": {\"axis\": null, \"field\": \"dx\", \"scale\": {\"domain\": [-100, 100]}, \"type\": \"quantitative\"}, \"y\": {\"axis\": null, \"field\": \"dy\", \"scale\": {\"domain\": [-100, 100]}, \"type\": \"quantitative\"}}, \"height\": 400, \"transform\": [{\"filter\": \"(datum.line === 0)\"}, {\"calculate\": \"(39.5 * datum.cos)\", \"as\": \"dx\"}, {\"calculate\": \"(39.5 * datum.sin)\", \"as\": \"dy\"}], \"width\": 400}, {\"mark\": {\"type\": \"line\", \"color\": \"gray\", \"strokeDash\": [5, 5], \"strokeOpacity\": 0.5, \"strokeWidth\": 1}, \"encoding\": {\"order\": {\"field\": \"axis\", \"type\": \"quantitative\"}, \"x\": {\"axis\": null, \"field\": \"dx\", \"scale\": {\"domain\": [-100, 100]}, \"type\": \"quantitative\"}, \"y\": {\"axis\": null, \"field\": \"dy\", \"scale\": {\"domain\": [-100, 100]}, \"type\": \"quantitative\"}}, \"height\": 400, \"transform\": [{\"filter\": \"(datum.line === 0)\"}, {\"calculate\": \"(59.25 * datum.cos)\", \"as\": \"dx\"}, {\"calculate\": \"(59.25 * datum.sin)\", \"as\": \"dy\"}], \"width\": 400}, {\"mark\": {\"type\": \"line\", \"color\": \"gray\", \"strokeDash\": [5, 5], \"strokeOpacity\": 0.5, \"strokeWidth\": 1}, \"encoding\": {\"order\": {\"field\": \"axis\", \"type\": \"quantitative\"}, \"x\": {\"axis\": null, \"field\": \"dx\", \"scale\": {\"domain\": [-100, 100]}, \"type\": \"quantitative\"}, \"y\": {\"axis\": null, \"field\": \"dy\", \"scale\": {\"domain\": [-100, 100]}, \"type\": \"quantitative\"}}, \"height\": 400, \"transform\": [{\"filter\": \"(datum.line === 0)\"}, {\"calculate\": \"(79.0 * datum.cos)\", \"as\": \"dx\"}, {\"calculate\": \"(79.0 * datum.sin)\", \"as\": \"dy\"}], \"width\": 400}]}, {\"layer\": [{\"mark\": {\"type\": \"line\", \"color\": \"#4E79A7\", \"strokeOpacity\": 1, \"strokeWidth\": 2}, \"encoding\": {\"order\": {\"field\": \"axis\", \"type\": \"quantitative\"}, \"x\": {\"axis\": null, \"field\": \"dx\", \"scale\": {\"domain\": [-100, 100]}, \"type\": \"quantitative\"}, \"y\": {\"axis\": null, \"field\": \"dy\", \"scale\": {\"domain\": [-100, 100]}, \"type\": \"quantitative\"}}, \"height\": 400, \"transform\": [{\"filter\": \"(datum.line === 0)\"}, {\"calculate\": \"(datum.metric * datum.cos)\", \"as\": \"dx\"}, {\"calculate\": \"(datum.metric * datum.sin)\", \"as\": \"dy\"}], \"width\": 400}, {\"mark\": {\"type\": \"line\", \"color\": \"#A0CBE8\", \"strokeOpacity\": 1, \"strokeWidth\": 2}, \"encoding\": {\"order\": {\"field\": \"axis\", \"type\": \"quantitative\"}, \"x\": {\"axis\": null, \"field\": \"dx\", \"scale\": {\"domain\": [-100, 100]}, \"type\": \"quantitative\"}, \"y\": {\"axis\": null, \"field\": \"dy\", \"scale\": {\"domain\": [-100, 100]}, \"type\": \"quantitative\"}}, \"height\": 400, \"transform\": [{\"filter\": \"(datum.line === 1)\"}, {\"calculate\": \"(datum.metric * datum.cos)\", \"as\": \"dx\"}, {\"calculate\": \"(datum.metric * datum.sin)\", \"as\": \"dy\"}], \"width\": 400}, {\"mark\": {\"type\": \"line\", \"color\": \"#F28E2B\", \"strokeOpacity\": 1, \"strokeWidth\": 2}, \"encoding\": {\"order\": {\"field\": \"axis\", \"type\": \"quantitative\"}, \"x\": {\"axis\": null, \"field\": \"dx\", \"scale\": {\"domain\": [-100, 100]}, \"type\": \"quantitative\"}, \"y\": {\"axis\": null, \"field\": \"dy\", \"scale\": {\"domain\": [-100, 100]}, \"type\": \"quantitative\"}}, \"height\": 400, \"transform\": [{\"filter\": \"(datum.line === 2)\"}, {\"calculate\": \"(datum.metric * datum.cos)\", \"as\": \"dx\"}, {\"calculate\": \"(datum.metric * datum.sin)\", \"as\": \"dy\"}], \"width\": 400}]}, {\"layer\": [{\"mark\": {\"type\": \"line\", \"color\": \"black\", \"strokeOpacity\": 0.5, \"strokeWidth\": 1}, \"encoding\": {\"order\": {\"field\": \"axis\", \"type\": \"quantitative\"}, \"x\": {\"axis\": null, \"field\": \"dx\", \"scale\": {\"domain\": [-100, 100]}, \"type\": \"quantitative\"}, \"y\": {\"axis\": null, \"field\": \"dy\", \"scale\": {\"domain\": [-100, 100]}, \"type\": \"quantitative\"}}, \"transform\": [{\"filter\": \"(datum.line === 0)\"}, {\"calculate\": \"((datum.axis === 0) * (79 * datum.cos))\", \"as\": \"dx\"}, {\"calculate\": \"((datum.axis === 0) * (79 * datum.sin))\", \"as\": \"dy\"}]}, {\"mark\": {\"type\": \"line\", \"color\": \"black\", \"strokeOpacity\": 0.5, \"strokeWidth\": 1}, \"encoding\": {\"order\": {\"field\": \"axis\", \"type\": \"quantitative\"}, \"x\": {\"axis\": null, \"field\": \"dx\", \"scale\": {\"domain\": [-100, 100]}, \"type\": \"quantitative\"}, \"y\": {\"axis\": null, \"field\": \"dy\", \"scale\": {\"domain\": [-100, 100]}, \"type\": \"quantitative\"}}, \"transform\": [{\"filter\": \"(datum.line === 0)\"}, {\"calculate\": \"((datum.axis === 1) * (79 * datum.cos))\", \"as\": \"dx\"}, {\"calculate\": \"((datum.axis === 1) * (79 * datum.sin))\", \"as\": \"dy\"}]}, {\"mark\": {\"type\": \"line\", \"color\": \"black\", \"strokeOpacity\": 0.5, \"strokeWidth\": 1}, \"encoding\": {\"order\": {\"field\": \"axis\", \"type\": \"quantitative\"}, \"x\": {\"axis\": null, \"field\": \"dx\", \"scale\": {\"domain\": [-100, 100]}, \"type\": \"quantitative\"}, \"y\": {\"axis\": null, \"field\": \"dy\", \"scale\": {\"domain\": [-100, 100]}, \"type\": \"quantitative\"}}, \"transform\": [{\"filter\": \"(datum.line === 0)\"}, {\"calculate\": \"((datum.axis === 2) * (79 * datum.cos))\", \"as\": \"dx\"}, {\"calculate\": \"((datum.axis === 2) * (79 * datum.sin))\", \"as\": \"dy\"}]}, {\"mark\": {\"type\": \"line\", \"color\": \"black\", \"strokeOpacity\": 0.5, \"strokeWidth\": 1}, \"encoding\": {\"order\": {\"field\": \"axis\", \"type\": \"quantitative\"}, \"x\": {\"axis\": null, \"field\": \"dx\", \"scale\": {\"domain\": [-100, 100]}, \"type\": \"quantitative\"}, \"y\": {\"axis\": null, \"field\": \"dy\", \"scale\": {\"domain\": [-100, 100]}, \"type\": \"quantitative\"}}, \"transform\": [{\"filter\": \"(datum.line === 0)\"}, {\"calculate\": \"((datum.axis === 3) * (79 * datum.cos))\", \"as\": \"dx\"}, {\"calculate\": \"((datum.axis === 3) * (79 * datum.sin))\", \"as\": \"dy\"}]}, {\"mark\": {\"type\": \"line\", \"color\": \"black\", \"strokeOpacity\": 0.5, \"strokeWidth\": 1}, \"encoding\": {\"order\": {\"field\": \"axis\", \"type\": \"quantitative\"}, \"x\": {\"axis\": null, \"field\": \"dx\", \"scale\": {\"domain\": [-100, 100]}, \"type\": \"quantitative\"}, \"y\": {\"axis\": null, \"field\": \"dy\", \"scale\": {\"domain\": [-100, 100]}, \"type\": \"quantitative\"}}, \"transform\": [{\"filter\": \"(datum.line === 0)\"}, {\"calculate\": \"((datum.axis === 4) * (79 * datum.cos))\", \"as\": \"dx\"}, {\"calculate\": \"((datum.axis === 4) * (79 * datum.sin))\", \"as\": \"dy\"}]}, {\"mark\": {\"type\": \"line\", \"color\": \"black\", \"strokeOpacity\": 0.5, \"strokeWidth\": 1}, \"encoding\": {\"order\": {\"field\": \"axis\", \"type\": \"quantitative\"}, \"x\": {\"axis\": null, \"field\": \"dx\", \"scale\": {\"domain\": [-100, 100]}, \"type\": \"quantitative\"}, \"y\": {\"axis\": null, \"field\": \"dy\", \"scale\": {\"domain\": [-100, 100]}, \"type\": \"quantitative\"}}, \"transform\": [{\"filter\": \"(datum.line === 0)\"}, {\"calculate\": \"((datum.axis === 5) * (79 * datum.cos))\", \"as\": \"dx\"}, {\"calculate\": \"((datum.axis === 5) * (79 * datum.sin))\", \"as\": \"dy\"}]}, {\"mark\": {\"type\": \"line\", \"color\": \"black\", \"strokeOpacity\": 0.5, \"strokeWidth\": 1}, \"encoding\": {\"order\": {\"field\": \"axis\", \"type\": \"quantitative\"}, \"x\": {\"axis\": null, \"field\": \"dx\", \"scale\": {\"domain\": [-100, 100]}, \"type\": \"quantitative\"}, \"y\": {\"axis\": null, \"field\": \"dy\", \"scale\": {\"domain\": [-100, 100]}, \"type\": \"quantitative\"}}, \"transform\": [{\"filter\": \"(datum.line === 0)\"}, {\"calculate\": \"((datum.axis === 6) * (79 * datum.cos))\", \"as\": \"dx\"}, {\"calculate\": \"((datum.axis === 6) * (79 * datum.sin))\", \"as\": \"dy\"}]}, {\"mark\": {\"type\": \"line\", \"color\": \"black\", \"strokeOpacity\": 0.5, \"strokeWidth\": 1}, \"encoding\": {\"order\": {\"field\": \"axis\", \"type\": \"quantitative\"}, \"x\": {\"axis\": null, \"field\": \"dx\", \"scale\": {\"domain\": [-100, 100]}, \"type\": \"quantitative\"}, \"y\": {\"axis\": null, \"field\": \"dy\", \"scale\": {\"domain\": [-100, 100]}, \"type\": \"quantitative\"}}, \"transform\": [{\"filter\": \"(datum.line === 0)\"}, {\"calculate\": \"((datum.axis === 7) * (79 * datum.cos))\", \"as\": \"dx\"}, {\"calculate\": \"((datum.axis === 7) * (79 * datum.sin))\", \"as\": \"dy\"}]}, {\"mark\": {\"type\": \"text\", \"fontStyle\": \"bold\"}, \"encoding\": {\"order\": {\"field\": \"axis\", \"type\": \"quantitative\"}, \"text\": {\"field\": \"axis_name\", \"type\": \"nominal\"}, \"x\": {\"axis\": null, \"field\": \"dx\", \"scale\": {\"domain\": [-100, 100]}, \"type\": \"quantitative\"}, \"y\": {\"axis\": null, \"field\": \"dy\", \"scale\": {\"domain\": [-100, 100]}, \"type\": \"quantitative\"}}, \"height\": 400, \"transform\": [{\"filter\": \"(datum.line === 0)\"}, {\"calculate\": \"(((79 * datum.cos) + datum.cos) * 1.1)\", \"as\": \"dx\"}, {\"calculate\": \"(((79 * datum.sin) + datum.sin) * 1.1)\", \"as\": \"dy\"}, {\"calculate\": \"datum.axis\", \"as\": \"text\"}], \"width\": 400}, {\"mark\": {\"type\": \"text\", \"color\": \"black\", \"fontStyle\": \"bold\"}, \"encoding\": {\"order\": {\"field\": \"axis\", \"type\": \"quantitative\"}, \"text\": {\"field\": \"metric\", \"type\": \"quantitative\"}, \"x\": {\"axis\": null, \"field\": \"dx\", \"scale\": {\"domain\": [-100, 100]}, \"type\": \"quantitative\"}, \"y\": {\"axis\": null, \"field\": \"dy\", \"scale\": {\"domain\": [-100, 100]}, \"type\": \"quantitative\"}}, \"height\": 400, \"transform\": [{\"filter\": \"(datum.line === -1)\"}, {\"calculate\": \"((datum.metric * datum.cos) + 5)\", \"as\": \"dx\"}, {\"calculate\": \"(datum.metric * datum.sin)\", \"as\": \"dy\"}, {\"calculate\": \"datum.metric\", \"as\": \"text\"}], \"width\": 400}]}], \"data\": {\"name\": \"data-ee3899df01c204e513cb7d4e8e026704\"}, \"$schema\": \"https://vega.github.io/schema/vega-lite/v4.17.0.json\", \"datasets\": {\"data-ee3899df01c204e513cb7d4e8e026704\": [{\"axis_name\": \"Turn 1\", \"axis\": 0, \"line\": 0, \"metric\": 8.546936566645194, \"sin\": 0.19509032201612825, \"cos\": 0.9807852804032304}, {\"axis_name\": \"Turn 2\", \"axis\": 1, \"line\": 0, \"metric\": 47.443540992884635, \"sin\": 0.8314696123025451, \"cos\": 0.5555702330196023}, {\"axis_name\": \"Turn 3\", \"axis\": 2, \"line\": 0, \"metric\": 22.28195134046852, \"sin\": 0.9807852804032304, \"cos\": -0.1950903220161282}, {\"axis_name\": \"Turn 4\", \"axis\": 3, \"line\": 0, \"metric\": 6.8749779888794205, \"sin\": 0.5555702330196022, \"cos\": -0.8314696123025453}, {\"axis_name\": \"Turn 5\", \"axis\": 4, \"line\": 0, \"metric\": 9.805857099918818, \"sin\": -0.19509032201612836, \"cos\": -0.9807852804032304}, {\"axis_name\": \"Turn 6\", \"axis\": 5, \"line\": 0, \"metric\": 42.557469831417166, \"sin\": -0.8314696123025452, \"cos\": -0.5555702330196022}, {\"axis_name\": \"Turn 7\", \"axis\": 6, \"line\": 0, \"metric\": 44.856865911192976, \"sin\": -0.9807852804032304, \"cos\": 0.19509032201612828}, {\"axis_name\": \"Turn 8\", \"axis\": 7, \"line\": 0, \"metric\": 59.30156831035977, \"sin\": -0.5555702330196022, \"cos\": 0.8314696123025452}, {\"axis_name\": \"Turn 1\", \"axis\": 0, \"line\": 1, \"metric\": 9.302801427353518, \"sin\": 0.19509032201612825, \"cos\": 0.9807852804032304}, {\"axis_name\": \"Turn 2\", \"axis\": 1, \"line\": 1, \"metric\": 27.778300299884386, \"sin\": 0.8314696123025451, \"cos\": 0.5555702330196023}, {\"axis_name\": \"Turn 3\", \"axis\": 2, \"line\": 1, \"metric\": 24.41992303402265, \"sin\": 0.9807852804032304, \"cos\": -0.1950903220161282}, {\"axis_name\": \"Turn 4\", \"axis\": 3, \"line\": 1, \"metric\": 65.604897301905, \"sin\": 0.5555702330196022, \"cos\": -0.8314696123025453}, {\"axis_name\": \"Turn 5\", \"axis\": 4, \"line\": 1, \"metric\": 11.86162600383364, \"sin\": -0.19509032201612836, \"cos\": -0.9807852804032304}, {\"axis_name\": \"Turn 6\", \"axis\": 5, \"line\": 1, \"metric\": 14.802135517099007, \"sin\": -0.8314696123025452, \"cos\": -0.5555702330196022}, {\"axis_name\": \"Turn 7\", \"axis\": 6, \"line\": 1, \"metric\": 18.770376691736914, \"sin\": -0.9807852804032304, \"cos\": 0.19509032201612828}, {\"axis_name\": \"Turn 8\", \"axis\": 7, \"line\": 1, \"metric\": 36.924073104382366, \"sin\": -0.5555702330196022, \"cos\": 0.8314696123025452}, {\"axis_name\": \"Turn 1\", \"axis\": 0, \"line\": 2, \"metric\": 5.0, \"sin\": 0.19509032201612825, \"cos\": 0.9807852804032304}, {\"axis_name\": \"Turn 2\", \"axis\": 1, \"line\": 2, \"metric\": 17.735275835271338, \"sin\": 0.8314696123025451, \"cos\": 0.5555702330196023}, {\"axis_name\": \"Turn 3\", \"axis\": 2, \"line\": 2, \"metric\": 31.01906637006021, \"sin\": 0.9807852804032304, \"cos\": -0.1950903220161282}, {\"axis_name\": \"Turn 4\", \"axis\": 3, \"line\": 2, \"metric\": 62.73022083326193, \"sin\": 0.5555702330196022, \"cos\": -0.8314696123025453}, {\"axis_name\": \"Turn 5\", \"axis\": 4, \"line\": 2, \"metric\": 8.122948716209276, \"sin\": -0.19509032201612836, \"cos\": -0.9807852804032304}, {\"axis_name\": \"Turn 6\", \"axis\": 5, \"line\": 2, \"metric\": 27.989999382225665, \"sin\": -0.8314696123025452, \"cos\": -0.5555702330196022}, {\"axis_name\": \"Turn 7\", \"axis\": 6, \"line\": 2, \"metric\": 45.86388490914201, \"sin\": -0.9807852804032304, \"cos\": 0.19509032201612828}, {\"axis_name\": \"Turn 8\", \"axis\": 7, \"line\": 2, \"metric\": 66.40252083330417, \"sin\": -0.5555702330196022, \"cos\": 0.8314696123025452}, {\"axis_name\": \"Turn 1\", \"axis\": 8, \"line\": 0, \"metric\": 8.546936566645194, \"sin\": 0.19509032201612822, \"cos\": 0.9807852804032304}, {\"axis_name\": \"Turn 1\", \"axis\": 8, \"line\": 1, \"metric\": 9.302801427353518, \"sin\": 0.19509032201612822, \"cos\": 0.9807852804032304}, {\"axis_name\": \"Turn 1\", \"axis\": 8, \"line\": 2, \"metric\": 5.0, \"sin\": 0.19509032201612822, \"cos\": 0.9807852804032304}, {\"axis_name\": \"Turn 1\", \"axis\": 0, \"line\": -1, \"metric\": 20.0, \"sin\": 0.19509032201612825, \"cos\": 0.9807852804032304}, {\"axis_name\": \"Turn 1\", \"axis\": 0, \"line\": -1, \"metric\": 40.0, \"sin\": 0.19509032201612825, \"cos\": 0.9807852804032304}, {\"axis_name\": \"Turn 1\", \"axis\": 0, \"line\": -1, \"metric\": 59.0, \"sin\": 0.19509032201612825, \"cos\": 0.9807852804032304}, {\"axis_name\": \"Turn 1\", \"axis\": 0, \"line\": -1, \"metric\": 79.0, \"sin\": 0.19509032201612825, \"cos\": 0.9807852804032304}]}}, {\"mode\": \"vega-lite\"});\n",
       "</script>"
      ],
      "text/plain": [
       "alt.LayerChart(...)"
      ]
     },
     "execution_count": 6,
     "metadata": {},
     "output_type": "execute_result"
    }
   ],
   "source": [
    "json = []\n",
    "turns = np.random.randint(5, 12)\n",
    "laps = np.random.randint(2, 5)\n",
    "print(f'Turns: {turns} and Laps: {laps}')\n",
    "\n",
    "for lap in range(laps):\n",
    "    for turn in range(turns):\n",
    "        meters = max(5, (np.random.uniform(0, ((turn%4)+1)*20)+np.random.randint(10)))\n",
    "        json.append({'axis_name': f'Turn {turn+1}', 'axis': turn, 'line': lap, 'metric': meters})\n",
    "df = pd.DataFrame(json)\n",
    "\n",
    "radar = RadarChart(df, 4)\n",
    "radar.chart"
   ]
  },
  {
   "cell_type": "code",
   "execution_count": null,
   "metadata": {},
   "outputs": [],
   "source": []
  }
 ],
 "metadata": {
  "kernelspec": {
   "display_name": "Python 3",
   "language": "python",
   "name": "python3"
  },
  "language_info": {
   "codemirror_mode": {
    "name": "ipython",
    "version": 3
   },
   "file_extension": ".py",
   "mimetype": "text/x-python",
   "name": "python",
   "nbconvert_exporter": "python",
   "pygments_lexer": "ipython3",
   "version": "3.10.9"
  },
  "orig_nbformat": 4
 },
 "nbformat": 4,
 "nbformat_minor": 2
}
