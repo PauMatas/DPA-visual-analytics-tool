{
 "cells": [
  {
   "cell_type": "code",
   "execution_count": 1,
   "metadata": {},
   "outputs": [],
   "source": [
    "import pandas as pd\n",
    "import numpy as np\n",
    "import altair as alt\n",
    "from Modules.radarchart import RadarChart"
   ]
  },
  {
   "cell_type": "code",
   "execution_count": 2,
   "metadata": {},
   "outputs": [
    {
     "name": "stdout",
     "output_type": "stream",
     "text": [
      "Turns: 10 and Laps: 4\n"
     ]
    },
    {
     "name": "stderr",
     "output_type": "stream",
     "text": [
      "/usr/local/lib/python3.10/site-packages/altair/utils/core.py:317: FutureWarning: iteritems is deprecated and will be removed in a future version. Use .items instead.\n",
      "  for col_name, dtype in df.dtypes.iteritems():\n"
     ]
    },
    {
     "data": {
      "text/html": [
       "\n",
       "<div id=\"altair-viz-518978bf86a243378cf79652ebc89004\"></div>\n",
       "<script type=\"text/javascript\">\n",
       "  var VEGA_DEBUG = (typeof VEGA_DEBUG == \"undefined\") ? {} : VEGA_DEBUG;\n",
       "  (function(spec, embedOpt){\n",
       "    let outputDiv = document.currentScript.previousElementSibling;\n",
       "    if (outputDiv.id !== \"altair-viz-518978bf86a243378cf79652ebc89004\") {\n",
       "      outputDiv = document.getElementById(\"altair-viz-518978bf86a243378cf79652ebc89004\");\n",
       "    }\n",
       "    const paths = {\n",
       "      \"vega\": \"https://cdn.jsdelivr.net/npm//vega@5?noext\",\n",
       "      \"vega-lib\": \"https://cdn.jsdelivr.net/npm//vega-lib?noext\",\n",
       "      \"vega-lite\": \"https://cdn.jsdelivr.net/npm//vega-lite@4.17.0?noext\",\n",
       "      \"vega-embed\": \"https://cdn.jsdelivr.net/npm//vega-embed@6?noext\",\n",
       "    };\n",
       "\n",
       "    function maybeLoadScript(lib, version) {\n",
       "      var key = `${lib.replace(\"-\", \"\")}_version`;\n",
       "      return (VEGA_DEBUG[key] == version) ?\n",
       "        Promise.resolve(paths[lib]) :\n",
       "        new Promise(function(resolve, reject) {\n",
       "          var s = document.createElement('script');\n",
       "          document.getElementsByTagName(\"head\")[0].appendChild(s);\n",
       "          s.async = true;\n",
       "          s.onload = () => {\n",
       "            VEGA_DEBUG[key] = version;\n",
       "            return resolve(paths[lib]);\n",
       "          };\n",
       "          s.onerror = () => reject(`Error loading script: ${paths[lib]}`);\n",
       "          s.src = paths[lib];\n",
       "        });\n",
       "    }\n",
       "\n",
       "    function showError(err) {\n",
       "      outputDiv.innerHTML = `<div class=\"error\" style=\"color:red;\">${err}</div>`;\n",
       "      throw err;\n",
       "    }\n",
       "\n",
       "    function displayChart(vegaEmbed) {\n",
       "      vegaEmbed(outputDiv, spec, embedOpt)\n",
       "        .catch(err => showError(`Javascript Error: ${err.message}<br>This usually means there's a typo in your chart specification. See the javascript console for the full traceback.`));\n",
       "    }\n",
       "\n",
       "    if(typeof define === \"function\" && define.amd) {\n",
       "      requirejs.config({paths});\n",
       "      require([\"vega-embed\"], displayChart, err => showError(`Error loading script: ${err.message}`));\n",
       "    } else {\n",
       "      maybeLoadScript(\"vega\", \"5\")\n",
       "        .then(() => maybeLoadScript(\"vega-lite\", \"4.17.0\"))\n",
       "        .then(() => maybeLoadScript(\"vega-embed\", \"6\"))\n",
       "        .catch(showError)\n",
       "        .then(() => displayChart(vegaEmbed));\n",
       "    }\n",
       "  })({\"config\": {\"view\": {\"continuousWidth\": 400, \"continuousHeight\": 300}}, \"layer\": [{\"mark\": {\"type\": \"line\", \"fill\": \"gray\", \"fillOpacity\": 0.1, \"strokeWidth\": 0}, \"encoding\": {\"order\": {\"field\": \"axis\", \"type\": \"quantitative\"}, \"x\": {\"axis\": null, \"field\": \"dx\", \"scale\": {\"domain\": [-100, 100]}, \"type\": \"quantitative\"}, \"y\": {\"axis\": null, \"field\": \"dy\", \"scale\": {\"domain\": [-100, 100]}, \"type\": \"quantitative\"}}, \"height\": 400, \"transform\": [{\"filter\": \"(datum.line === 0)\"}, {\"calculate\": \"(104 * datum.cos)\", \"as\": \"dx\"}, {\"calculate\": \"(104 * datum.sin)\", \"as\": \"dy\"}], \"width\": 400}, {\"layer\": [{\"mark\": {\"type\": \"line\", \"color\": \"gray\", \"strokeDash\": [5, 5], \"strokeOpacity\": 0.5, \"strokeWidth\": 1}, \"encoding\": {\"order\": {\"field\": \"axis\", \"type\": \"quantitative\"}, \"x\": {\"axis\": null, \"field\": \"dx\", \"scale\": {\"domain\": [-100, 100]}, \"type\": \"quantitative\"}, \"y\": {\"axis\": null, \"field\": \"dy\", \"scale\": {\"domain\": [-100, 100]}, \"type\": \"quantitative\"}}, \"height\": 400, \"transform\": [{\"filter\": \"(datum.line === 0)\"}, {\"calculate\": \"(26.0 * datum.cos)\", \"as\": \"dx\"}, {\"calculate\": \"(26.0 * datum.sin)\", \"as\": \"dy\"}], \"width\": 400}, {\"mark\": {\"type\": \"line\", \"color\": \"gray\", \"strokeDash\": [5, 5], \"strokeOpacity\": 0.5, \"strokeWidth\": 1}, \"encoding\": {\"order\": {\"field\": \"axis\", \"type\": \"quantitative\"}, \"x\": {\"axis\": null, \"field\": \"dx\", \"scale\": {\"domain\": [-100, 100]}, \"type\": \"quantitative\"}, \"y\": {\"axis\": null, \"field\": \"dy\", \"scale\": {\"domain\": [-100, 100]}, \"type\": \"quantitative\"}}, \"height\": 400, \"transform\": [{\"filter\": \"(datum.line === 0)\"}, {\"calculate\": \"(52.0 * datum.cos)\", \"as\": \"dx\"}, {\"calculate\": \"(52.0 * datum.sin)\", \"as\": \"dy\"}], \"width\": 400}, {\"mark\": {\"type\": \"line\", \"color\": \"gray\", \"strokeDash\": [5, 5], \"strokeOpacity\": 0.5, \"strokeWidth\": 1}, \"encoding\": {\"order\": {\"field\": \"axis\", \"type\": \"quantitative\"}, \"x\": {\"axis\": null, \"field\": \"dx\", \"scale\": {\"domain\": [-100, 100]}, \"type\": \"quantitative\"}, \"y\": {\"axis\": null, \"field\": \"dy\", \"scale\": {\"domain\": [-100, 100]}, \"type\": \"quantitative\"}}, \"height\": 400, \"transform\": [{\"filter\": \"(datum.line === 0)\"}, {\"calculate\": \"(78.0 * datum.cos)\", \"as\": \"dx\"}, {\"calculate\": \"(78.0 * datum.sin)\", \"as\": \"dy\"}], \"width\": 400}, {\"mark\": {\"type\": \"line\", \"color\": \"gray\", \"strokeDash\": [5, 5], \"strokeOpacity\": 0.5, \"strokeWidth\": 1}, \"encoding\": {\"order\": {\"field\": \"axis\", \"type\": \"quantitative\"}, \"x\": {\"axis\": null, \"field\": \"dx\", \"scale\": {\"domain\": [-100, 100]}, \"type\": \"quantitative\"}, \"y\": {\"axis\": null, \"field\": \"dy\", \"scale\": {\"domain\": [-100, 100]}, \"type\": \"quantitative\"}}, \"height\": 400, \"transform\": [{\"filter\": \"(datum.line === 0)\"}, {\"calculate\": \"(104.0 * datum.cos)\", \"as\": \"dx\"}, {\"calculate\": \"(104.0 * datum.sin)\", \"as\": \"dy\"}], \"width\": 400}]}, {\"layer\": [{\"mark\": {\"type\": \"line\", \"color\": \"#4E79A7\", \"strokeOpacity\": 1, \"strokeWidth\": 2}, \"encoding\": {\"order\": {\"field\": \"axis\", \"type\": \"quantitative\"}, \"x\": {\"axis\": null, \"field\": \"dx\", \"scale\": {\"domain\": [-100, 100]}, \"type\": \"quantitative\"}, \"y\": {\"axis\": null, \"field\": \"dy\", \"scale\": {\"domain\": [-100, 100]}, \"type\": \"quantitative\"}}, \"height\": 400, \"transform\": [{\"filter\": \"(datum.line === 0)\"}, {\"calculate\": \"(datum.metric * datum.cos)\", \"as\": \"dx\"}, {\"calculate\": \"(datum.metric * datum.sin)\", \"as\": \"dy\"}], \"width\": 400}, {\"mark\": {\"type\": \"line\", \"color\": \"#A0CBE8\", \"strokeOpacity\": 1, \"strokeWidth\": 2}, \"encoding\": {\"order\": {\"field\": \"axis\", \"type\": \"quantitative\"}, \"x\": {\"axis\": null, \"field\": \"dx\", \"scale\": {\"domain\": [-100, 100]}, \"type\": \"quantitative\"}, \"y\": {\"axis\": null, \"field\": \"dy\", \"scale\": {\"domain\": [-100, 100]}, \"type\": \"quantitative\"}}, \"height\": 400, \"transform\": [{\"filter\": \"(datum.line === 1)\"}, {\"calculate\": \"(datum.metric * datum.cos)\", \"as\": \"dx\"}, {\"calculate\": \"(datum.metric * datum.sin)\", \"as\": \"dy\"}], \"width\": 400}, {\"mark\": {\"type\": \"line\", \"color\": \"#F28E2B\", \"strokeOpacity\": 1, \"strokeWidth\": 2}, \"encoding\": {\"order\": {\"field\": \"axis\", \"type\": \"quantitative\"}, \"x\": {\"axis\": null, \"field\": \"dx\", \"scale\": {\"domain\": [-100, 100]}, \"type\": \"quantitative\"}, \"y\": {\"axis\": null, \"field\": \"dy\", \"scale\": {\"domain\": [-100, 100]}, \"type\": \"quantitative\"}}, \"height\": 400, \"transform\": [{\"filter\": \"(datum.line === 2)\"}, {\"calculate\": \"(datum.metric * datum.cos)\", \"as\": \"dx\"}, {\"calculate\": \"(datum.metric * datum.sin)\", \"as\": \"dy\"}], \"width\": 400}, {\"mark\": {\"type\": \"line\", \"color\": \"#FFBE7D\", \"strokeOpacity\": 1, \"strokeWidth\": 2}, \"encoding\": {\"order\": {\"field\": \"axis\", \"type\": \"quantitative\"}, \"x\": {\"axis\": null, \"field\": \"dx\", \"scale\": {\"domain\": [-100, 100]}, \"type\": \"quantitative\"}, \"y\": {\"axis\": null, \"field\": \"dy\", \"scale\": {\"domain\": [-100, 100]}, \"type\": \"quantitative\"}}, \"height\": 400, \"transform\": [{\"filter\": \"(datum.line === 3)\"}, {\"calculate\": \"(datum.metric * datum.cos)\", \"as\": \"dx\"}, {\"calculate\": \"(datum.metric * datum.sin)\", \"as\": \"dy\"}], \"width\": 400}]}, {\"layer\": [{\"mark\": {\"type\": \"line\", \"color\": \"black\", \"strokeOpacity\": 0.5, \"strokeWidth\": 1}, \"encoding\": {\"order\": {\"field\": \"axis\", \"type\": \"quantitative\"}, \"x\": {\"axis\": null, \"field\": \"dx\", \"scale\": {\"domain\": [-100, 100]}, \"type\": \"quantitative\"}, \"y\": {\"axis\": null, \"field\": \"dy\", \"scale\": {\"domain\": [-100, 100]}, \"type\": \"quantitative\"}}, \"transform\": [{\"filter\": \"(datum.line === 0)\"}, {\"calculate\": \"((datum.axis === 0) * (104 * datum.cos))\", \"as\": \"dx\"}, {\"calculate\": \"((datum.axis === 0) * (104 * datum.sin))\", \"as\": \"dy\"}]}, {\"mark\": {\"type\": \"line\", \"color\": \"black\", \"strokeOpacity\": 0.5, \"strokeWidth\": 1}, \"encoding\": {\"order\": {\"field\": \"axis\", \"type\": \"quantitative\"}, \"x\": {\"axis\": null, \"field\": \"dx\", \"scale\": {\"domain\": [-100, 100]}, \"type\": \"quantitative\"}, \"y\": {\"axis\": null, \"field\": \"dy\", \"scale\": {\"domain\": [-100, 100]}, \"type\": \"quantitative\"}}, \"transform\": [{\"filter\": \"(datum.line === 0)\"}, {\"calculate\": \"((datum.axis === 1) * (104 * datum.cos))\", \"as\": \"dx\"}, {\"calculate\": \"((datum.axis === 1) * (104 * datum.sin))\", \"as\": \"dy\"}]}, {\"mark\": {\"type\": \"line\", \"color\": \"black\", \"strokeOpacity\": 0.5, \"strokeWidth\": 1}, \"encoding\": {\"order\": {\"field\": \"axis\", \"type\": \"quantitative\"}, \"x\": {\"axis\": null, \"field\": \"dx\", \"scale\": {\"domain\": [-100, 100]}, \"type\": \"quantitative\"}, \"y\": {\"axis\": null, \"field\": \"dy\", \"scale\": {\"domain\": [-100, 100]}, \"type\": \"quantitative\"}}, \"transform\": [{\"filter\": \"(datum.line === 0)\"}, {\"calculate\": \"((datum.axis === 2) * (104 * datum.cos))\", \"as\": \"dx\"}, {\"calculate\": \"((datum.axis === 2) * (104 * datum.sin))\", \"as\": \"dy\"}]}, {\"mark\": {\"type\": \"line\", \"color\": \"black\", \"strokeOpacity\": 0.5, \"strokeWidth\": 1}, \"encoding\": {\"order\": {\"field\": \"axis\", \"type\": \"quantitative\"}, \"x\": {\"axis\": null, \"field\": \"dx\", \"scale\": {\"domain\": [-100, 100]}, \"type\": \"quantitative\"}, \"y\": {\"axis\": null, \"field\": \"dy\", \"scale\": {\"domain\": [-100, 100]}, \"type\": \"quantitative\"}}, \"transform\": [{\"filter\": \"(datum.line === 0)\"}, {\"calculate\": \"((datum.axis === 3) * (104 * datum.cos))\", \"as\": \"dx\"}, {\"calculate\": \"((datum.axis === 3) * (104 * datum.sin))\", \"as\": \"dy\"}]}, {\"mark\": {\"type\": \"line\", \"color\": \"black\", \"strokeOpacity\": 0.5, \"strokeWidth\": 1}, \"encoding\": {\"order\": {\"field\": \"axis\", \"type\": \"quantitative\"}, \"x\": {\"axis\": null, \"field\": \"dx\", \"scale\": {\"domain\": [-100, 100]}, \"type\": \"quantitative\"}, \"y\": {\"axis\": null, \"field\": \"dy\", \"scale\": {\"domain\": [-100, 100]}, \"type\": \"quantitative\"}}, \"transform\": [{\"filter\": \"(datum.line === 0)\"}, {\"calculate\": \"((datum.axis === 4) * (104 * datum.cos))\", \"as\": \"dx\"}, {\"calculate\": \"((datum.axis === 4) * (104 * datum.sin))\", \"as\": \"dy\"}]}, {\"mark\": {\"type\": \"line\", \"color\": \"black\", \"strokeOpacity\": 0.5, \"strokeWidth\": 1}, \"encoding\": {\"order\": {\"field\": \"axis\", \"type\": \"quantitative\"}, \"x\": {\"axis\": null, \"field\": \"dx\", \"scale\": {\"domain\": [-100, 100]}, \"type\": \"quantitative\"}, \"y\": {\"axis\": null, \"field\": \"dy\", \"scale\": {\"domain\": [-100, 100]}, \"type\": \"quantitative\"}}, \"transform\": [{\"filter\": \"(datum.line === 0)\"}, {\"calculate\": \"((datum.axis === 5) * (104 * datum.cos))\", \"as\": \"dx\"}, {\"calculate\": \"((datum.axis === 5) * (104 * datum.sin))\", \"as\": \"dy\"}]}, {\"mark\": {\"type\": \"line\", \"color\": \"black\", \"strokeOpacity\": 0.5, \"strokeWidth\": 1}, \"encoding\": {\"order\": {\"field\": \"axis\", \"type\": \"quantitative\"}, \"x\": {\"axis\": null, \"field\": \"dx\", \"scale\": {\"domain\": [-100, 100]}, \"type\": \"quantitative\"}, \"y\": {\"axis\": null, \"field\": \"dy\", \"scale\": {\"domain\": [-100, 100]}, \"type\": \"quantitative\"}}, \"transform\": [{\"filter\": \"(datum.line === 0)\"}, {\"calculate\": \"((datum.axis === 6) * (104 * datum.cos))\", \"as\": \"dx\"}, {\"calculate\": \"((datum.axis === 6) * (104 * datum.sin))\", \"as\": \"dy\"}]}, {\"mark\": {\"type\": \"line\", \"color\": \"black\", \"strokeOpacity\": 0.5, \"strokeWidth\": 1}, \"encoding\": {\"order\": {\"field\": \"axis\", \"type\": \"quantitative\"}, \"x\": {\"axis\": null, \"field\": \"dx\", \"scale\": {\"domain\": [-100, 100]}, \"type\": \"quantitative\"}, \"y\": {\"axis\": null, \"field\": \"dy\", \"scale\": {\"domain\": [-100, 100]}, \"type\": \"quantitative\"}}, \"transform\": [{\"filter\": \"(datum.line === 0)\"}, {\"calculate\": \"((datum.axis === 7) * (104 * datum.cos))\", \"as\": \"dx\"}, {\"calculate\": \"((datum.axis === 7) * (104 * datum.sin))\", \"as\": \"dy\"}]}, {\"mark\": {\"type\": \"line\", \"color\": \"black\", \"strokeOpacity\": 0.5, \"strokeWidth\": 1}, \"encoding\": {\"order\": {\"field\": \"axis\", \"type\": \"quantitative\"}, \"x\": {\"axis\": null, \"field\": \"dx\", \"scale\": {\"domain\": [-100, 100]}, \"type\": \"quantitative\"}, \"y\": {\"axis\": null, \"field\": \"dy\", \"scale\": {\"domain\": [-100, 100]}, \"type\": \"quantitative\"}}, \"transform\": [{\"filter\": \"(datum.line === 0)\"}, {\"calculate\": \"((datum.axis === 8) * (104 * datum.cos))\", \"as\": \"dx\"}, {\"calculate\": \"((datum.axis === 8) * (104 * datum.sin))\", \"as\": \"dy\"}]}, {\"mark\": {\"type\": \"line\", \"color\": \"black\", \"strokeOpacity\": 0.5, \"strokeWidth\": 1}, \"encoding\": {\"order\": {\"field\": \"axis\", \"type\": \"quantitative\"}, \"x\": {\"axis\": null, \"field\": \"dx\", \"scale\": {\"domain\": [-100, 100]}, \"type\": \"quantitative\"}, \"y\": {\"axis\": null, \"field\": \"dy\", \"scale\": {\"domain\": [-100, 100]}, \"type\": \"quantitative\"}}, \"transform\": [{\"filter\": \"(datum.line === 0)\"}, {\"calculate\": \"((datum.axis === 9) * (104 * datum.cos))\", \"as\": \"dx\"}, {\"calculate\": \"((datum.axis === 9) * (104 * datum.sin))\", \"as\": \"dy\"}]}, {\"mark\": {\"type\": \"text\", \"fontStyle\": \"bold\"}, \"encoding\": {\"order\": {\"field\": \"axis\", \"type\": \"quantitative\"}, \"text\": {\"field\": \"axis_name\", \"type\": \"nominal\"}, \"x\": {\"axis\": null, \"field\": \"dx\", \"scale\": {\"domain\": [-100, 100]}, \"type\": \"quantitative\"}, \"y\": {\"axis\": null, \"field\": \"dy\", \"scale\": {\"domain\": [-100, 100]}, \"type\": \"quantitative\"}}, \"height\": 400, \"transform\": [{\"filter\": \"(datum.line === 0)\"}, {\"calculate\": \"(((104 * datum.cos) + datum.cos) * 1.1)\", \"as\": \"dx\"}, {\"calculate\": \"(((104 * datum.sin) + datum.sin) * 1.1)\", \"as\": \"dy\"}, {\"calculate\": \"datum.axis\", \"as\": \"text\"}], \"width\": 400}, {\"mark\": {\"type\": \"text\", \"color\": \"black\", \"fontStyle\": \"bold\"}, \"encoding\": {\"order\": {\"field\": \"axis\", \"type\": \"quantitative\"}, \"text\": {\"field\": \"metric\", \"type\": \"quantitative\"}, \"x\": {\"axis\": null, \"field\": \"dx\", \"scale\": {\"domain\": [-100, 100]}, \"type\": \"quantitative\"}, \"y\": {\"axis\": null, \"field\": \"dy\", \"scale\": {\"domain\": [-100, 100]}, \"type\": \"quantitative\"}}, \"height\": 400, \"transform\": [{\"filter\": \"(datum.line === -1)\"}, {\"calculate\": \"((datum.metric * datum.cos) + 5)\", \"as\": \"dx\"}, {\"calculate\": \"(datum.metric * datum.sin)\", \"as\": \"dy\"}, {\"calculate\": \"datum.metric\", \"as\": \"text\"}], \"width\": 400}]}], \"data\": {\"name\": \"data-af634bab908a44730e4df04ee8e93f97\"}, \"$schema\": \"https://vega.github.io/schema/vega-lite/v4.17.0.json\", \"datasets\": {\"data-af634bab908a44730e4df04ee8e93f97\": [{\"axis_name\": \"Turn 1\", \"axis\": 0, \"line\": 0, \"metric\": 7.815897462237309, \"sin\": 0.15643446504023087, \"cos\": 0.9876883405951378}, {\"axis_name\": \"Turn 2\", \"axis\": 1, \"line\": 0, \"metric\": 9.996595295371112, \"sin\": 0.7071067811865475, \"cos\": 0.7071067811865476}, {\"axis_name\": \"Turn 3\", \"axis\": 2, \"line\": 0, \"metric\": 56.405948007778235, \"sin\": 0.9876883405951378, \"cos\": 0.15643446504023092}, {\"axis_name\": \"Turn 4\", \"axis\": 3, \"line\": 0, \"metric\": 63.38700147499329, \"sin\": 0.8910065241883679, \"cos\": -0.45399049973954675}, {\"axis_name\": \"Turn 5\", \"axis\": 4, \"line\": 0, \"metric\": 10.596516303355411, \"sin\": 0.45399049973954686, \"cos\": -0.8910065241883678}, {\"axis_name\": \"Turn 6\", \"axis\": 5, \"line\": 0, \"metric\": 25.41980109423818, \"sin\": -0.15643446504023076, \"cos\": -0.9876883405951378}, {\"axis_name\": \"Turn 7\", \"axis\": 6, \"line\": 0, \"metric\": 40.905687947361436, \"sin\": -0.7071067811865475, \"cos\": -0.7071067811865477}, {\"axis_name\": \"Turn 8\", \"axis\": 7, \"line\": 0, \"metric\": 74.60190192430066, \"sin\": -0.9876883405951377, \"cos\": -0.15643446504023106}, {\"axis_name\": \"Turn 9\", \"axis\": 8, \"line\": 0, \"metric\": 15.139616212894076, \"sin\": -0.891006524188368, \"cos\": 0.45399049973954664}, {\"axis_name\": \"Turn 10\", \"axis\": 9, \"line\": 0, \"metric\": 22.08522993685165, \"sin\": -0.45399049973954697, \"cos\": 0.8910065241883678}, {\"axis_name\": \"Turn 1\", \"axis\": 0, \"line\": 1, \"metric\": 17.1592564605802, \"sin\": 0.15643446504023087, \"cos\": 0.9876883405951378}, {\"axis_name\": \"Turn 2\", \"axis\": 1, \"line\": 1, \"metric\": 12.812890942134281, \"sin\": 0.7071067811865475, \"cos\": 0.7071067811865476}, {\"axis_name\": \"Turn 3\", \"axis\": 2, \"line\": 1, \"metric\": 67.34690335173462, \"sin\": 0.9876883405951378, \"cos\": 0.15643446504023092}, {\"axis_name\": \"Turn 4\", \"axis\": 3, \"line\": 1, \"metric\": 29.067558766549105, \"sin\": 0.8910065241883679, \"cos\": -0.45399049973954675}, {\"axis_name\": \"Turn 5\", \"axis\": 4, \"line\": 1, \"metric\": 5.0, \"sin\": 0.45399049973954686, \"cos\": -0.8910065241883678}, {\"axis_name\": \"Turn 6\", \"axis\": 5, \"line\": 1, \"metric\": 18.499921104773712, \"sin\": -0.15643446504023076, \"cos\": -0.9876883405951378}, {\"axis_name\": \"Turn 7\", \"axis\": 6, \"line\": 1, \"metric\": 65.96513547095907, \"sin\": -0.7071067811865475, \"cos\": -0.7071067811865477}, {\"axis_name\": \"Turn 8\", \"axis\": 7, \"line\": 1, \"metric\": 87.35261978215844, \"sin\": -0.9876883405951377, \"cos\": -0.15643446504023106}, {\"axis_name\": \"Turn 9\", \"axis\": 8, \"line\": 1, \"metric\": 12.928772799718935, \"sin\": -0.891006524188368, \"cos\": 0.45399049973954664}, {\"axis_name\": \"Turn 10\", \"axis\": 9, \"line\": 1, \"metric\": 24.38388292157589, \"sin\": -0.45399049973954697, \"cos\": 0.8910065241883678}, {\"axis_name\": \"Turn 1\", \"axis\": 0, \"line\": 2, \"metric\": 20.58716620174328, \"sin\": 0.15643446504023087, \"cos\": 0.9876883405951378}, {\"axis_name\": \"Turn 2\", \"axis\": 1, \"line\": 2, \"metric\": 22.12731310517714, \"sin\": 0.7071067811865475, \"cos\": 0.7071067811865476}, {\"axis_name\": \"Turn 3\", \"axis\": 2, \"line\": 2, \"metric\": 52.42937762266181, \"sin\": 0.9876883405951378, \"cos\": 0.15643446504023092}, {\"axis_name\": \"Turn 4\", \"axis\": 3, \"line\": 2, \"metric\": 71.33366843957556, \"sin\": 0.8910065241883679, \"cos\": -0.45399049973954675}, {\"axis_name\": \"Turn 5\", \"axis\": 4, \"line\": 2, \"metric\": 19.06183870948724, \"sin\": 0.45399049973954686, \"cos\": -0.8910065241883678}, {\"axis_name\": \"Turn 6\", \"axis\": 5, \"line\": 2, \"metric\": 10.777847499853854, \"sin\": -0.15643446504023076, \"cos\": -0.9876883405951378}, {\"axis_name\": \"Turn 7\", \"axis\": 6, \"line\": 2, \"metric\": 50.71250256885097, \"sin\": -0.7071067811865475, \"cos\": -0.7071067811865477}, {\"axis_name\": \"Turn 8\", \"axis\": 7, \"line\": 2, \"metric\": 63.64092874232362, \"sin\": -0.9876883405951377, \"cos\": -0.15643446504023106}, {\"axis_name\": \"Turn 9\", \"axis\": 8, \"line\": 2, \"metric\": 13.712746533906218, \"sin\": -0.891006524188368, \"cos\": 0.45399049973954664}, {\"axis_name\": \"Turn 10\", \"axis\": 9, \"line\": 2, \"metric\": 19.99970168159857, \"sin\": -0.45399049973954697, \"cos\": 0.8910065241883678}, {\"axis_name\": \"Turn 1\", \"axis\": 0, \"line\": 3, \"metric\": 18.23398596559762, \"sin\": 0.15643446504023087, \"cos\": 0.9876883405951378}, {\"axis_name\": \"Turn 2\", \"axis\": 1, \"line\": 3, \"metric\": 24.128767838795763, \"sin\": 0.7071067811865475, \"cos\": 0.7071067811865476}, {\"axis_name\": \"Turn 3\", \"axis\": 2, \"line\": 3, \"metric\": 61.89365055403157, \"sin\": 0.9876883405951378, \"cos\": 0.15643446504023092}, {\"axis_name\": \"Turn 4\", \"axis\": 3, \"line\": 3, \"metric\": 74.55564112970985, \"sin\": 0.8910065241883679, \"cos\": -0.45399049973954675}, {\"axis_name\": \"Turn 5\", \"axis\": 4, \"line\": 3, \"metric\": 5.241860440771186, \"sin\": 0.45399049973954686, \"cos\": -0.8910065241883678}, {\"axis_name\": \"Turn 6\", \"axis\": 5, \"line\": 3, \"metric\": 20.233541889940426, \"sin\": -0.15643446504023076, \"cos\": -0.9876883405951378}, {\"axis_name\": \"Turn 7\", \"axis\": 6, \"line\": 3, \"metric\": 9.385702281965422, \"sin\": -0.7071067811865475, \"cos\": -0.7071067811865477}, {\"axis_name\": \"Turn 8\", \"axis\": 7, \"line\": 3, \"metric\": 59.46462709741839, \"sin\": -0.9876883405951377, \"cos\": -0.15643446504023106}, {\"axis_name\": \"Turn 9\", \"axis\": 8, \"line\": 3, \"metric\": 19.609003149114777, \"sin\": -0.891006524188368, \"cos\": 0.45399049973954664}, {\"axis_name\": \"Turn 10\", \"axis\": 9, \"line\": 3, \"metric\": 13.584033235299502, \"sin\": -0.45399049973954697, \"cos\": 0.8910065241883678}, {\"axis_name\": \"Turn 1\", \"axis\": 10, \"line\": 0, \"metric\": 7.815897462237309, \"sin\": 0.15643446504022973, \"cos\": 0.9876883405951379}, {\"axis_name\": \"Turn 1\", \"axis\": 10, \"line\": 1, \"metric\": 17.1592564605802, \"sin\": 0.15643446504022973, \"cos\": 0.9876883405951379}, {\"axis_name\": \"Turn 1\", \"axis\": 10, \"line\": 2, \"metric\": 20.58716620174328, \"sin\": 0.15643446504022973, \"cos\": 0.9876883405951379}, {\"axis_name\": \"Turn 1\", \"axis\": 10, \"line\": 3, \"metric\": 18.23398596559762, \"sin\": 0.15643446504022973, \"cos\": 0.9876883405951379}, {\"axis_name\": \"Turn 1\", \"axis\": 0, \"line\": -1, \"metric\": 26.0, \"sin\": 0.15643446504023087, \"cos\": 0.9876883405951378}, {\"axis_name\": \"Turn 1\", \"axis\": 0, \"line\": -1, \"metric\": 52.0, \"sin\": 0.15643446504023087, \"cos\": 0.9876883405951378}, {\"axis_name\": \"Turn 1\", \"axis\": 0, \"line\": -1, \"metric\": 78.0, \"sin\": 0.15643446504023087, \"cos\": 0.9876883405951378}, {\"axis_name\": \"Turn 1\", \"axis\": 0, \"line\": -1, \"metric\": 104.0, \"sin\": 0.15643446504023087, \"cos\": 0.9876883405951378}]}}, {\"mode\": \"vega-lite\"});\n",
       "</script>"
      ],
      "text/plain": [
       "alt.LayerChart(...)"
      ]
     },
     "execution_count": 2,
     "metadata": {},
     "output_type": "execute_result"
    }
   ],
   "source": [
    "json = []\n",
    "turns = np.random.randint(5, 12)\n",
    "laps = np.random.randint(2, 5)\n",
    "print(f'Turns: {turns} and Laps: {laps}')\n",
    "\n",
    "for lap in range(laps):\n",
    "    for turn in range(turns):\n",
    "        meters = max(5, (np.random.uniform(0, ((turn%4)+1)*20)+np.random.randint(10)))\n",
    "        json.append({'axis_name': f'Turn {turn+1}', 'axis': turn, 'line': lap, 'metric': meters})\n",
    "df = pd.DataFrame(json)\n",
    "\n",
    "radar = RadarChart(df, 4)\n",
    "radar.chart"
   ]
  },
  {
   "cell_type": "code",
   "execution_count": null,
   "metadata": {},
   "outputs": [],
   "source": []
  }
 ],
 "metadata": {
  "kernelspec": {
   "display_name": "Python 3",
   "language": "python",
   "name": "python3"
  },
  "language_info": {
   "codemirror_mode": {
    "name": "ipython",
    "version": 3
   },
   "file_extension": ".py",
   "mimetype": "text/x-python",
   "name": "python",
   "nbconvert_exporter": "python",
   "pygments_lexer": "ipython3",
   "version": "3.10.9"
  },
  "orig_nbformat": 4
 },
 "nbformat": 4,
 "nbformat_minor": 2
}
